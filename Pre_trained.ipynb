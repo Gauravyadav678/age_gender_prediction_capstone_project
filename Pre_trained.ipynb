{
 "cells": [
  {
   "cell_type": "code",
   "execution_count": 1,
   "id": "ca0a2ea3",
   "metadata": {},
   "outputs": [],
   "source": [
    "def model_train():\n",
    "    \n",
    "    cal_age = cv2.dnn.readNetFromCaffe(r'C:\\Users\\91971\\Documents\\opencv_material\\modelNweight_age_deploy.prototxt', r'C:\\Users\\91971\\Documents\\opencv_material\\modelNweight_age_net.caffemodel')\n",
    "\n",
    "    cal_gender = cv2.dnn.readNetFromCaffe(r'C:\\Users\\91971\\Documents\\opencv_material\\modelNweight_gender_deploy.prototxt', r'C:\\Users\\91971\\Documents\\opencv_material\\modelNweight_gender_net.caffemodel')\n",
    "    \n",
    "    # return the age and gender\n",
    "    \n",
    "    return(cal_age, cal_gender)"
   ]
  },
  {
   "cell_type": "code",
   "execution_count": null,
   "id": "14de2b83",
   "metadata": {},
   "outputs": [],
   "source": []
  }
 ],
 "metadata": {
  "kernelspec": {
   "display_name": "Python 3",
   "language": "python",
   "name": "python3"
  },
  "language_info": {
   "codemirror_mode": {
    "name": "ipython",
    "version": 3
   },
   "file_extension": ".py",
   "mimetype": "text/x-python",
   "name": "python",
   "nbconvert_exporter": "python",
   "pygments_lexer": "ipython3",
   "version": "3.8.8"
  }
 },
 "nbformat": 4,
 "nbformat_minor": 5
}
