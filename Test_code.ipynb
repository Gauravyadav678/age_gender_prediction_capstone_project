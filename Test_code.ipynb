{
 "cells": [
  {
   "cell_type": "markdown",
   "id": "60413122",
   "metadata": {},
   "source": [
    "# face detection and predict the age and gender."
   ]
  },
  {
   "cell_type": "markdown",
   "id": "bfc1f2cc",
   "metadata": {},
   "source": [
    "# . face detection\n",
    "### 1. to recognize the face means detect the face \n",
    "### 2. predict the gender \n",
    "### 3. predict the age"
   ]
  },
  {
   "cell_type": "markdown",
   "id": "4188d541",
   "metadata": {},
   "source": [
    "### import the some library like numpy ,pandas "
   ]
  },
  {
   "cell_type": "code",
   "execution_count": 6,
   "id": "369682d4",
   "metadata": {},
   "outputs": [],
   "source": [
    "# the numpy library is related to numerical python \n",
    "import numpy as np"
   ]
  },
  {
   "cell_type": "code",
   "execution_count": 5,
   "id": "efb40cba",
   "metadata": {},
   "outputs": [],
   "source": [
    "# is it related to the read the data from the files \n",
    "import pandas as pd"
   ]
  },
  {
   "cell_type": "markdown",
   "id": "4f4a170e",
   "metadata": {},
   "source": [
    "###  .here we are importing another library pafy which is related to the \n",
    "###   url links ,import the video from the youtube."
   ]
  },
  {
   "cell_type": "code",
   "execution_count": 6,
   "id": "a8be7d71",
   "metadata": {},
   "outputs": [
    {
     "name": "stdout",
     "output_type": "stream",
     "text": [
      "Requirement already satisfied: pafy in c:\\users\\91971\\music\\ana\\lib\\site-packages (0.5.5)\n"
     ]
    }
   ],
   "source": [
    "!pip install pafy"
   ]
  },
  {
   "cell_type": "code",
   "execution_count": 7,
   "id": "f763a985",
   "metadata": {},
   "outputs": [
    {
     "name": "stdout",
     "output_type": "stream",
     "text": [
      "Requirement already satisfied: youtube-dl in c:\\users\\91971\\music\\ana\\lib\\site-packages (2021.6.6)\n"
     ]
    }
   ],
   "source": [
    "!pip install youtube-dl"
   ]
  },
  {
   "cell_type": "code",
   "execution_count": 7,
   "id": "d986f1be",
   "metadata": {},
   "outputs": [],
   "source": [
    "import time\n",
    "import imutils\n",
    "import pafy"
   ]
  },
  {
   "cell_type": "markdown",
   "id": "72105bde",
   "metadata": {},
   "source": [
    "#### .Import the  Open cv library"
   ]
  },
  {
   "cell_type": "code",
   "execution_count": 8,
   "id": "7e204c57",
   "metadata": {},
   "outputs": [],
   "source": [
    "# it is very useful library which is used to foucuses on the iamges ,processing,  captue and analyse the video\n",
    "import cv2"
   ]
  },
  {
   "cell_type": "code",
   "execution_count": 11,
   "id": "7aa93464",
   "metadata": {},
   "outputs": [
    {
     "name": "stdout",
     "output_type": "stream",
     "text": [
      "result  1 founded\n",
      "the gender type: Gender: male\n",
      "the age range: age: ~25\n",
      "result  1 founded\n",
      "the gender type: Gender: male\n",
      "the age range: age: ~25\n",
      "result  1 founded\n",
      "the gender type: Gender: male\n",
      "the age range: age: ~25\n",
      "result  1 founded\n",
      "the gender type: Gender: male\n",
      "the age range: age: ~25\n",
      "result  1 founded\n",
      "the gender type: Gender: male\n",
      "the age range: age: ~9\n",
      "result  1 founded\n",
      "the gender type: Gender: male\n",
      "the age range: age: ~9\n",
      "result  1 founded\n",
      "the gender type: Gender: male\n",
      "the age range: age: ~15\n",
      "result  1 founded\n",
      "the gender type: Gender: male\n",
      "the age range: age: ~25\n",
      "result  1 founded\n",
      "the gender type: Gender: male\n",
      "the age range: age: ~20\n",
      "result  1 founded\n",
      "the gender type: Gender: male\n",
      "the age range: age: ~15\n",
      "result  1 founded\n",
      "the gender type: Gender: male\n",
      "the age range: age: ~25\n",
      "result  1 founded\n",
      "the gender type: Gender: male\n",
      "the age range: age: ~15\n",
      "result  1 founded\n",
      "the gender type: Gender: female\n",
      "the age range: age: ~20\n",
      "result  1 founded\n",
      "the gender type: Gender: male\n",
      "the age range: age: ~25\n",
      "result  1 founded\n",
      "the gender type: Gender: female\n",
      "the age range: age: ~20\n",
      "result  1 founded\n",
      "the gender type: Gender: male\n",
      "the age range: age: ~20\n",
      "result  1 founded\n",
      "the gender type: Gender: female\n",
      "the age range: age: ~20\n",
      "result  1 founded\n",
      "the gender type: Gender: male\n",
      "the age range: age: ~25\n",
      "result  1 founded\n",
      "the gender type: Gender: female\n",
      "the age range: age: ~45\n",
      "result  1 founded\n",
      "the gender type: Gender: female\n",
      "the age range: age: ~45\n",
      "result  1 founded\n",
      "the gender type: Gender: female\n",
      "the age range: age: ~45\n",
      "result  1 founded\n",
      "the gender type: Gender: female\n",
      "the age range: age: ~45\n",
      "result  1 founded\n",
      "the gender type: Gender: female\n",
      "the age range: age: ~45\n",
      "result  1 founded\n",
      "the gender type: Gender: female\n",
      "the age range: age: ~45\n",
      "result  1 founded\n",
      "the gender type: Gender: female\n",
      "the age range: age: ~45\n"
     ]
    }
   ],
   "source": [
    "\n",
    "my_url='https://youtu.be/UbcrqCjgQgw'\n",
    "\n",
    "vspapy=pafy.new(my_url)\n",
    "\n",
    "playm=vspapy.getbest(preftype=\"mp4\")\n",
    "\n",
    "# here i am just passing the link of youtube video.\n",
    "\n",
    "# you can open webcam by passing VideoCapture(0)\n",
    "\n",
    "capture_data = cv2.VideoCapture(playm.url)\n",
    "\n",
    "# here we are just manageing the size like length and width.\n",
    "\n",
    "capture_data.set(3,480)\n",
    "\n",
    "capture_data.set(4,640)\n",
    "\n",
    "# here the mean value of the modal\n",
    "\n",
    "mean_value= (78.4263377603, 87.7689143744, 114.895847746)\n",
    "\n",
    "# here is the list of the age so we can predict \n",
    "\n",
    "\n",
    "list_of_age = ['age: ~5', 'age: ~9', 'age: ~15', 'age: ~20', 'age: ~25', 'age: ~35', 'age: ~45', 'age: ~>50']\n",
    "\n",
    "# here is the list of the gender so we can predict the gender\n",
    "\n",
    "list_of_gender = ['Gender: male', 'Gender: female']\n",
    "\n",
    "\n",
    "def model_train():\n",
    "    \n",
    "    cal_age = cv2.dnn.readNetFromCaffe(r'C:\\Users\\91971\\Documents\\opencv_material\\modelNweight_age_deploy.prototxt', r'C:\\Users\\91971\\Documents\\opencv_material\\modelNweight_age_net.caffemodel')\n",
    "\n",
    "    cal_gender = cv2.dnn.readNetFromCaffe(r'C:\\Users\\91971\\Documents\\opencv_material\\modelNweight_gender_deploy.prototxt', r'C:\\Users\\91971\\Documents\\opencv_material\\modelNweight_gender_net.caffemodel')\n",
    "    \n",
    "    # return the age and gender\n",
    "    \n",
    "    return(cal_age, cal_gender)\n",
    "\n",
    "\n",
    "\n",
    "def detection(cal_age, cal_gender):\n",
    "    \n",
    "    font=cv2.FONT_HERSHEY_SIMPLEX\n",
    "    \n",
    "    while True:\n",
    "        \n",
    "        # read the stream data \n",
    "        \n",
    "        ret, image = capture_data.read()\n",
    "        \n",
    "        font = cv2.FONT_HERSHEY_SIMPLEX\n",
    "        \n",
    "        # cascade classifier we use to detect th face\n",
    "        \n",
    "        cascade_classifier = cv2.CascadeClassifier(r'C:\\Users\\91971\\Documents\\New folder_haar-classifier\\haarcascade_frontalface_alt.xml')\n",
    "        \n",
    "        # here we just converting the image ito the gray image\n",
    "        \n",
    "        gray = cv2.cvtColor(image, cv2.COLOR_BGR2GRAY)\n",
    "        \n",
    "        faces = cascade_classifier.detectMultiScale(gray, 1.3, 5)\n",
    "        \n",
    "        if(len(faces)>0):\n",
    "            \n",
    "            print(\"result  {} founded\".format(str(len(faces))))\n",
    "            \n",
    "        for (x, y, w, h )in faces:\n",
    "            \n",
    "            cv2.rectangle(image, (x, y), (x+w, y+h), (255, 255, 0), 2)\n",
    "            \n",
    "            face_img = image[y:y+h, h:h+w].copy()\n",
    "            \n",
    "            blob = cv2.dnn.blobFromImage(face_img, 1, (227, 227), mean_value, swapRB=False)\n",
    "\n",
    "            cal_gender.setInput(blob)\n",
    "            \n",
    "            gender_preds = cal_gender.forward()\n",
    "            \n",
    "            # predict the gender \n",
    "            \n",
    "            gender_human = list_of_gender[gender_preds[0].argmax()]\n",
    "            \n",
    "            # print the type of thee gender\n",
    "            \n",
    "            print(\"the gender type: \" + gender_human)\n",
    "\n",
    "\n",
    "            cal_age.setInput(blob)\n",
    "            \n",
    "            age_preds = cal_age.forward()\n",
    "            \n",
    "            #predict the age\n",
    "            \n",
    "            age_human = list_of_age[age_preds[0].argmax()]\n",
    "            \n",
    "            # print the values of age\n",
    "            \n",
    "            print(\"the age range: \" + age_human)\n",
    "\n",
    "            overlay_text = \"%s %s\" % (gender_human, age_human)\n",
    "            \n",
    "            cv2.putText(image, overlay_text, (x, y), font, 1, (255, 255, 255), 2, cv2.LINE_AA)\n",
    "            \n",
    "        # show the final result   \n",
    "        \n",
    "        cv2.imshow('frame', image)  \n",
    "        \n",
    "        # this waityKey is used to  dispay a frame for the 1 ms \n",
    "        \n",
    "        if cv2.waitKey(1) & 0xFF == ord('q'):\n",
    "            \n",
    "            # when you will enter the q it will stop the process of detection\n",
    "            \n",
    "            break\n",
    "            \n",
    "if __name__ == \"__main__\":\n",
    "    \n",
    "    # pass the valus in the functon\n",
    "    \n",
    "    cal_age, cal_gender = model_train()\n",
    "    \n",
    "    detection(cal_age, cal_gender)\n",
    "    \n",
    "capture_data.release()\n",
    "\n",
    "cv2.destroyAllWindows()"
   ]
  },
  {
   "cell_type": "code",
   "execution_count": null,
   "id": "6b23e3cc",
   "metadata": {},
   "outputs": [],
   "source": []
  },
  {
   "cell_type": "code",
   "execution_count": null,
   "id": "b212a536",
   "metadata": {},
   "outputs": [],
   "source": []
  }
 ],
 "metadata": {
  "kernelspec": {
   "display_name": "Python 3",
   "language": "python",
   "name": "python3"
  },
  "language_info": {
   "codemirror_mode": {
    "name": "ipython",
    "version": 3
   },
   "file_extension": ".py",
   "mimetype": "text/x-python",
   "name": "python",
   "nbconvert_exporter": "python",
   "pygments_lexer": "ipython3",
   "version": "3.8.8"
  }
 },
 "nbformat": 4,
 "nbformat_minor": 5
}
